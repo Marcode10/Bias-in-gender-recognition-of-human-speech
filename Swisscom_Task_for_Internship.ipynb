{
 "cells": [
  {
   "cell_type": "markdown",
   "metadata": {},
   "source": [
    "# Bias in gender recognition of human speech\n",
    "\n",
    "`Objective:` Estimate the bias of gender classification from speech. \n",
    "\n",
    "`Constraints:` Working time <= 12 hours in 3 weeks time span.\n",
    "\n",
    "\n",
    "\n",
    "\n",
    "\n",
    "For understanding the bias of speech classification, \n",
    "(i) gender detection has been chosen among other speech classification problems, such as voice/unvoice classification, number of speakers detection, emotion classification, so on, \n",
    "(ii) Mel Frequency Cepstrum Coefficients (MFCCs) of a speech signal have been proved to contain gender information, hence classification model was built on MFCCs of the speech signal. \n",
    "(iii) Gaussian mixture models was used to build 2 models for each gender (male/female) describing the distributions of MFCCs, and for new unseen data the gender was classified according to maximum likelihood scores of both models.\n",
    "\n",
    "\n",
    "# Structure of the notebook: \n",
    "  <p><div class=\"lev1\"><a href=\"#Dataset-structure\"><span class=\"toc-item-num\">1&nbsp;&nbsp;</span>Dataset structure</a></div>\n",
    " <div class=\"lev2\"><a href=\"#Mel-frequency-cepstral-coefficients-extraction-from-speech-signal \"><span class=\"toc-item-num\">2&nbsp;&nbsp;</span>Mel frequency cepstral coefficients extraction from speech signal</a>\n",
    "\n",
    "</div><div class=\"lev3\"><a href=\"#Building-GMMs-on-training-data\"><span class=\"toc-item-num\">3&nbsp;&nbsp;</span>Building GMMs on training data</a>\n",
    "\n",
    "<div class=\"lev4\"><a href=\"#Classification-of-testing-speech-signals-and-discussion-of-results-in-terms-of-gender-bias\"><span class=\"toc-item-num\">4&nbsp;&nbsp;</span>Classification of testing speech signals and discussion of results in terms of gender bias</a>\n",
    "\n",
    "\n",
    "<div class=\"lev4\"><a href=\"#References\"><span class=\"toc-item-num\">6&nbsp;&nbsp;</span>References</a>   \n",
    "  \n",
    " \n",
    "\n",
    "\n"
   ]
  },
  {
   "cell_type": "code",
   "execution_count": 6,
   "metadata": {},
   "outputs": [],
   "source": [
    "# useful starting points\n",
    "import os\n",
    "import _pickle\n",
    "import warnings\n",
    "import numpy as np\n",
    "import pandas as pd\n",
    "from sklearn import mixture\n",
    "from scipy.io.wavfile import read\n",
    "import matplotlib.pyplot as plt\n",
    "from sklearn import preprocessing\n",
    "import python_speech_features as mfcc\n",
    "\n",
    "warnings.filterwarnings(\"ignore\")\n"
   ]
  },
  {
   "cell_type": "markdown",
   "metadata": {},
   "source": [
    "# Dataset structure"
   ]
  },
  {
   "cell_type": "markdown",
   "metadata": {},
   "source": [
    "Male and female speech corpus files have been collected from [VoxForge](http://www.repository.voxforge1.org/downloads/SpeechCorpus/Trunk/Audio/Main/16kHz_16bit/) licensed open source  repository in the forms of audiobook recordings of 10 seconds max duration. \n"
   ]
  },
  {
   "cell_type": "code",
   "execution_count": 2,
   "metadata": {},
   "outputs": [],
   "source": [
    "# reading the audiofiles\n",
    "dest = \"data/\"\n",
    "source_male   = \"data/male/\"\n",
    "files_male    = [os.path.join(source_male,f) for f in os.listdir(source_male) if f.endswith('.wav')]\n",
    "source_female   = \"data/female/\"\n",
    "files_female    = [os.path.join(source_female,f) for f in os.listdir(source_female) if f.endswith('.wav')]"
   ]
  },
  {
   "cell_type": "code",
   "execution_count": 3,
   "metadata": {},
   "outputs": [
    {
     "name": "stdout",
     "output_type": "stream",
     "text": [
      "The number of train female audiofiles is  549\n",
      "The number of train male audiofiles is  546\n",
      "The number of test female audiofiles is  137\n",
      "The number of test male audiofiles is  136\n"
     ]
    }
   ],
   "source": [
    "# splitting audiofiles into train and test samples\n",
    "np.random.seed(0)\n",
    "n_male = len(files_male)\n",
    "index = np.random.permutation(n_male)\n",
    "train_male = np.asarray(files_male)[index[: int(80*n_male/100)]].tolist()\n",
    "test_male = np.asarray(files_male)[index[int(80*n_male/100) + 1 :]].tolist()\n",
    "\n",
    "n_female = len(files_female)\n",
    "index = np.random.permutation(n_female)\n",
    "train_female = np.asarray(files_female)[index[: int(80*n_female/100)]].tolist()\n",
    "test_female = np.asarray(files_female)[index[int(80*n_female/100) + 1 :]].tolist()\n",
    "\n",
    "print('The number of train female audiofiles is ', len(train_female))\n",
    "print('The number of train male audiofiles is ', len(train_male))\n",
    "print('The number of test female audiofiles is ', len(test_female))\n",
    "print('The number of test male audiofiles is ', len(test_male))"
   ]
  },
  {
   "cell_type": "markdown",
   "metadata": {},
   "source": [
    "# Mel frequency cepstral coefficients extraction from speech signal\n",
    "\n",
    "One of the key steps in speech recognition and classification is the process of extraction of useful information out of noise and useless information. `Mel frequency cepstral coefficients` are the cepstral domain representation of the signal which characterizes the properties of the vocal tract( cords, tongue, teeth, so on) thus making speech different among individuals and genders as well.  \n",
    "To obtain the MFCCs, the speech signal has been processed through the following steps (2).\n",
    "\n",
    "<img src=\"1.png\" >\n",
    "\n",
    "1. Frame the signal into 25 milliseconds frames to have stationary frequency content of the speech,\n",
    "2. Apply window function on the overlapping frames of the signal to avoid discontinuities,\n",
    "3. Apply Short time Fourier transformation on the time domain frames to get the frequency domain representations,\n",
    "\n",
    "5. Apply the Mel filterbank to the FFT transformation and sum the energy in each filter.\n",
    "6. Take the logarithm of all filterbank energies.\n",
    "7. Take the DCT of the log filterbank energies.\n",
    "8. Keep DCT coefficients 2-13, discard the rest.\n",
    "\n",
    "\n",
    "[python_speech_features](https://python-speech-features.readthedocs.io/en/latest/) library was used to extract the MFCCs of the signal.\n"
   ]
  },
  {
   "cell_type": "code",
   "execution_count": 4,
   "metadata": {},
   "outputs": [
    {
     "name": "stdout",
     "output_type": "stream",
     "text": [
      "Training Female MFCC samples:  (281657, 13)\n",
      "Training Male MFCC samples:  (296428, 13)\n"
     ]
    }
   ],
   "source": [
    "def get_MFCC(fs,audio):\n",
    "    \"\"\"\n",
    "    Obtain the MFCCS of the audio by calling mfcc() function from python_speech_features module \n",
    "    INPUT: \n",
    "        fs - sampling rate( the number of samples per second)\n",
    "        audio - array of amplitudes\n",
    "    OUTPUT:\n",
    "        features - A numpy array of size (NUMFRAMES by numcep) containing MFCC features.\n",
    "    \"\"\"\n",
    "    features = mfcc.mfcc(audio,fs, winlen = 0.025, winstep = 0.01, numcep=13,appendEnergy = False)\n",
    "    \n",
    "    # standardize the features \n",
    "    features = preprocessing.scale(features)\n",
    "    return features\n",
    "\n",
    "def get_MFCC_of_audiofiles(files):\n",
    "    \"\"\"\n",
    "    Iteratively get the MFCC representation of all the sampling files\n",
    "    INPUT:\n",
    "        files - array of file names to read\n",
    "    OUTPUT:\n",
    "        OUTPUT - A numpy array of size (numberof files *NUMFRAMES by numcep) containing MFCC features.\n",
    "    \"\"\"\n",
    "    features = np.asarray(());\n",
    "    for f in files:\n",
    "        fs,audio = read(f)\n",
    "        vector   = get_MFCC(fs,audio)\n",
    "        if features.size == 0:\n",
    "            features = vector\n",
    "        else:\n",
    "            features = np.vstack((features, vector))\n",
    "    return features\n",
    "\n",
    "# obtain the features of training male and female data\n",
    "features_male = get_MFCC_of_audiofiles(train_male)\n",
    "features_female = get_MFCC_of_audiofiles(train_female)\n",
    "print(\"Training Female MFCC samples: \", features_female.shape)\n",
    "print(\"Training Male MFCC samples: \", features_male.shape)"
   ]
  },
  {
   "cell_type": "markdown",
   "metadata": {},
   "source": [
    "# Building GMMs on training data\n",
    "\n",
    "\n",
    "Gaussian Mixture models have been used to build two models for both male and female voices. The main purpose of GMM usage is to approximate the distirbution of the frame MFCCs by the linear combination of k components (clusters) of the model which are Normally distributed and have eliptic shape with the advantage of separating the components more robustely than other clustering methods. \n",
    "\n",
    "\n",
    "$$\n",
    "P(X|\\pi _k, \\mu_k, \\Sigma_k) = \\sum_{k=1}^{K} \\pi _k N (X|\\mu_k, \\Sigma_k)      \n",
    "$$\n",
    "\n",
    "where \n",
    "\n",
    "$$\n",
    "N (X|\\mu_k, \\Sigma_k) = \\frac{1}{\\sqrt{2 \\pi |\\Sigma _k| }} \\exp^{(X -\\mu _k)^{T} \\Sigma_k ^{-1}(X -\\mu _k)}\n",
    "$$\n",
    "And the aim of the training is to estimate the parameters $ \\mu _k, \\Sigma _k, \\pi _k$ for each class $k$ through maximizing the likelihood of each datapoint being in some cluster.\n",
    "\n",
    "I have used [sklearn.mixture.GaussianMixture](https://scikit-learn.org/stable/modules/generated/sklearn.mixture.GaussianMixture.html) to build models and applied elbow method to decide the optimal number of components for both models."
   ]
  },
  {
   "cell_type": "markdown",
   "metadata": {},
   "source": [
    "**To prevent over-fitting  or under-fitting for GMM some analytic criterion such as the \n",
    "Akaike information criterion (AIC) or the Bayesian information criterion (BIC) was used to get the optimal number of components for each model.**"
   ]
  },
  {
   "cell_type": "code",
   "execution_count": 7,
   "metadata": {},
   "outputs": [
    {
     "data": {
      "image/png": "[encoded data removed]",
      "text/plain": [
       "<Figure size 432x288 with 1 Axes>"
      ]
     },
     "metadata": {
      "needs_background": "light"
     },
     "output_type": "display_data"
    }
   ],
   "source": [
    "n_components = np.arange(1, 40, 5)\n",
    "models = [mixture.GaussianMixture(n, covariance_type='full', random_state=0).fit(features_male)\n",
    "          for n in n_components]\n",
    "\n",
    "plt.plot(n_components, [m.bic(features_male) for m in models], label='BIC')\n",
    "plt.plot(n_components, [m.aic(features_male) for m in models], label='AIC')\n",
    "plt.legend(loc='best')\n",
    "plt.xlabel('n_components');"
   ]
  },
  {
   "cell_type": "code",
   "execution_count": 8,
   "metadata": {},
   "outputs": [
    {
     "data": {
      "image/png": "[encoded data removed]",
      "text/plain": [
       "<Figure size 432x288 with 1 Axes>"
      ]
     },
     "metadata": {
      "needs_background": "light"
     },
     "output_type": "display_data"
    }
   ],
   "source": [
    "n_components = np.arange(1, 40, 5)\n",
    "models = [mixture.GaussianMixture(n, covariance_type='full', random_state=0).fit(features_female)\n",
    "          for n in n_components]\n",
    "\n",
    "plt.plot(n_components, [m.bic(features_female) for m in models], label='BIC')\n",
    "plt.plot(n_components, [m.aic(features_female) for m in models], label='AIC')\n",
    "plt.legend(loc='best')\n",
    "plt.xlabel('n_components');"
   ]
  },
  {
   "cell_type": "code",
   "execution_count": 29,
   "metadata": {},
   "outputs": [
    {
     "name": "stdout",
     "output_type": "stream",
     "text": [
      "modeling completed for genders:\n"
     ]
    }
   ],
   "source": [
    "# 26 seems reasonable for the high values oh AIC and BIC\n",
    "gmm_male = mixture.GaussianMixture(n_components = 26, covariance_type='diag',n_init = 3, random_state=0)\n",
    "gmm_male.fit(features_male)\n",
    "\n",
    "gmm_female = mixture.GaussianMixture(n_components = 26, covariance_type='diag',n_init = 3, random_state=0)\n",
    "gmm_female.fit(features_female)\n",
    "\n",
    "models = [gmm_male, gmm_female]\n",
    "\n",
    "picklefile_male = 'male' + '.gmm'\n",
    "picklefile_female = 'female' + '.gmm'\n",
    "\n",
    "# Save models\n",
    "_pickle.dump(gmm_male,open(dest + picklefile_male,'wb'))\n",
    "_pickle.dump(gmm_female,open(dest + picklefile_female,'wb'))\n",
    "\n",
    "print('modeling completed for genders:')\n",
    "\n",
    "def read_models(dest):\n",
    "    \"\"\"\n",
    "    Read the saved models\n",
    "    \n",
    "    INPUT: \n",
    "        dest- stored directory\n",
    "    OUTPUT:\n",
    "    \n",
    "    \"\"\"\n",
    "    # read the models from files\n",
    "    gmm_files = [os.path.join(dest,fname) for fname in\n",
    "                  os.listdir(dest) if fname.endswith('.gmm')]\n",
    "    models    = [_pickle.load(open(fname,'rb')) for fname in gmm_files]\n",
    "\n",
    "    genders   = [fname.split('/')[-1].split(\".gmm\")[0] for fname\n",
    "                  in gmm_files]\n",
    "    return (models, genders)\n"
   ]
  },
  {
   "cell_type": "markdown",
   "metadata": {},
   "source": [
    "# Classification of speech signals and discussion of results in terms of gender bias\n",
    "\n",
    "The test data is processed the same way as train data for distribution consistency reasons. \n",
    "For each new sample and for each class(m/f) the sum of log likelihood scores is calculated over N samples(N to be the number of frames in my case) and the class was assigned to the class which has the high likelihood.\n",
    "$$\n",
    "max _ \\theta \\sum_{n = 1}^{N}\\log\\sum_{k=1}^{K} \\pi _k N (X|\\mu_k, \\Sigma_k)\n",
    "$$\n",
    "\n"
   ]
  },
  {
   "cell_type": "code",
   "execution_count": 25,
   "metadata": {},
   "outputs": [],
   "source": [
    "def test(files, models):\n",
    "    \"\"\" \n",
    "    A function to read the files, get MFCC information and \n",
    "    calculate the Max. Likelihood of the feature for each model\n",
    "    \n",
    "    INPUT: \n",
    "        files - list of file names to be read\n",
    "        models - list of models\n",
    "    OUTPUT: \n",
    "        (number_of_males, number_of_females) - representing the number of classified males and females\n",
    "    \"\"\"\n",
    "    number_of_males = 0\n",
    "    number_of_females = 0\n",
    "    genders = ['male', 'female']\n",
    "    for f in files:\n",
    "        #print(f.split(\"/\")[-1])\n",
    "        sr, audio  = read(f)\n",
    "        features   = get_MFCC(sr,audio)\n",
    "        scores     = None\n",
    "        log_likelihood = np.zeros(len(models))\n",
    "        for i in range(len(models)):\n",
    "            gmm    = models[i]         \n",
    "            #checking with each model one by one\n",
    "            scores = np.array(gmm.score(features))\n",
    "            log_likelihood[i] = scores\n",
    "        winner = np.argmax(log_likelihood)\n",
    "        if winner:\n",
    "            number_of_females = number_of_females + 1 \n",
    "        else: \n",
    "            number_of_males = number_of_males + 1\n",
    "    return (number_of_males, number_of_females)"
   ]
  },
  {
   "cell_type": "code",
   "execution_count": 30,
   "metadata": {},
   "outputs": [],
   "source": [
    "mnm, mnf = test(test_male, models)\n",
    "fnm, fnf = test(test_female, models)"
   ]
  },
  {
   "cell_type": "markdown",
   "metadata": {},
   "source": [
    "Assuming that the **male is the negative class**, some metrics are calculated to understand the classification performance."
   ]
  },
  {
   "cell_type": "code",
   "execution_count": 31,
   "metadata": {},
   "outputs": [],
   "source": [
    "def metrics(mnm,mnf,fnm,fnf):\n",
    "    acc = (mnm + fnf) / (mnm + mnf + fnm + fnf)\n",
    "    #The error rate, which is the ratio of instances misclassified\n",
    "    error_rate = (mnf + fnm )/ (fnf + fnm + mnm + mnf)\n",
    "    #sensitivity, which is the portion of actual positives predicted as positives\n",
    "    tpr = fnf/(fnf + fnm )\n",
    "    #the specificity, which is the portion of actual negatives predicted as negative\n",
    "    tnr = mnm/(mnm+ mnf)\n",
    "    return acc, error_rate, tpr, tnr"
   ]
  },
  {
   "cell_type": "code",
   "execution_count": 32,
   "metadata": {
    "scrolled": true
   },
   "outputs": [
    {
     "name": "stdout",
     "output_type": "stream",
     "text": [
      "With male negative class \n",
      " The accuracy is:  0.9230769230769231  \n",
      " The error rate is  0.07692307692307693 so the model can correctly label a high percentage of the instances \n",
      " The proportion of correctly classified female class is 0.8905109489051095 \n",
      " The proportion of correctly classified male class is 0.9558823529411765\n"
     ]
    }
   ],
   "source": [
    "# male as negative class\n",
    "acc, error_rate, tpr, tnr = metrics(mnm,mnf,fnm,fnf)\n",
    "print('With male negative class \\n The accuracy is: ', acc,' \\n The error rate is ',error_rate,\n",
    "      'so the model can correctly label a high percentage of the instances',\n",
    "      '\\n The proportion of correctly classified female class is', tpr,\n",
    "      '\\n The proportion of correctly classified male class is', tnr)\n"
   ]
  },
  {
   "cell_type": "markdown",
   "metadata": {},
   "source": [
    "Male classifier works more accurately than female classifier, so I wouldn't say that the model is biased, because here I have two models with different performances and the fact is that the male model is trained considerably better than the female model. 0.1 proportion of test female speech was classified as male and 0.044 proportion of test male speech to female, and 0.065 difference of the performance result can be because of the \n",
    "\n",
    "(i) sample selection (diversity of voices in m/f samples),\n",
    "\n",
    "(ii) model selection( cross validate over the data to take the best characterizing split samples)\n",
    "\n",
    "which is left as further work to be done to understand the small drawback of gender bias in classification and improve classification accuracy to some defined metric.\n"
   ]
  },
  {
   "cell_type": "markdown",
   "metadata": {},
   "source": [
    "# References \n",
    "\n",
    "Literature and material review:\n",
    "\n",
    "\n",
    "Papers\n",
    "\n",
    "[1]. [Automatic Identification of Gender from Speech](http://www.cs.columbia.edu/~sarahita/papers/speech_prosody16.pdf),\n",
    "\n",
    "[2]. [Robust voiced/unvoiced classification using using novel features and Gaussain mixture model](https://pdfs.semanticscholar.org/293e/aa337555a443fe5f33ae33b330225f278765.pdf),\n",
    "\n",
    "\n",
    "\n",
    "Blogs\n",
    "\n",
    "(1). [Voice Gender Detection using GMMs : A Python Primer](https://appliedmachinelearning.blog/2017/06/14/voice-gender-detection-using-gmms-a-python-primer/#comments)\n",
    "\n",
    "(2). [Mel Frequency Cepstral Coefficient (MFCC)](http://practicalcryptography.com/miscellaneous/machine-learning/guide-mel-frequency-cepstral-coefficients-mfccs/)"
   ]
  },
  {
   "cell_type": "markdown",
   "metadata": {},
   "source": [
    "### I have completted this work in (12,13) hour time interval, \n",
    "\n",
    "`2 hours` literature and existing work review,\n",
    "\n",
    "`2-3 hours` data collection (more than I scheduled because I had to make the samples as much homogenous as possible, untill I found the voxForge),\n",
    "\n",
    "`4-5 hours` implementation and running\n",
    "\n",
    "`1 hour` improving the samples of the data\n",
    "\n",
    "`2 hours` implementation, running and reporting\n",
    "\n",
    "Mariam Hakobyan"
   ]
  }
 ],
 "metadata": {
  "kernelspec": {
   "display_name": "Python 3",
   "language": "python",
   "name": "python3"
  },
  "language_info": {
   "codemirror_mode": {
    "name": "ipython",
    "version": 3
   },
   "file_extension": ".py",
   "mimetype": "text/x-python",
   "name": "python",
   "nbconvert_exporter": "python",
   "pygments_lexer": "ipython3",
   "version": "3.6.8"
  }
 },
 "nbformat": 4,
 "nbformat_minor": 2
}
